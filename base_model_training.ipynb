{
 "cells": [
  {
   "cell_type": "code",
   "execution_count": 1,
   "id": "b3f1e383",
   "metadata": {},
   "outputs": [],
   "source": [
    "import matplotlib.pyplot as plt\n",
    "import torch\n",
    "import torch.nn as nn\n",
    "import torch.optim as optim\n",
    "\n",
    "from sklearn.metrics import accuracy_score\n",
    "from torchvision import datasets, transforms\n",
    "from tqdm.auto import tqdm\n",
    "\n",
    "import models"
   ]
  },
  {
   "cell_type": "code",
   "execution_count": 2,
   "id": "73af05f1",
   "metadata": {},
   "outputs": [
    {
     "data": {
      "text/plain": [
       "<module 'models' from '/home/mma6789/Stuff/Studies/sem4/fmse/project/models.py'>"
      ]
     },
     "execution_count": 2,
     "metadata": {},
     "output_type": "execute_result"
    }
   ],
   "source": [
    "import importlib\n",
    "importlib.reload(models)"
   ]
  },
  {
   "cell_type": "code",
   "execution_count": 3,
   "id": "03ec0baa",
   "metadata": {},
   "outputs": [
    {
     "name": "stdout",
     "output_type": "stream",
     "text": [
      "Using device: cuda\n",
      "Quadro RTX 6000\n",
      "Memory Usage:\n",
      "Allocated: 0.0 GB\n",
      "Cached:    0.0 GB\n"
     ]
    },
    {
     "data": {
      "text/plain": [
       "<torch._C.Generator at 0x7fde61ff6d90>"
      ]
     },
     "execution_count": 3,
     "metadata": {},
     "output_type": "execute_result"
    }
   ],
   "source": [
    "device = torch.device('cuda' if torch.cuda.is_available() else 'cpu')\n",
    "print('Using device:', device)\n",
    "\n",
    "if device.type == 'cuda':\n",
    "    print(torch.cuda.get_device_name(0))\n",
    "    print('Memory Usage:')\n",
    "    print('Allocated:', round(torch.cuda.memory_allocated(0)/1024**3, 1), 'GB')\n",
    "    print('Cached:   ', round(torch.cuda.memory_reserved(0)/1024**3, 1), 'GB')\n",
    "\n",
    "# Set random seed for reproducibility\n",
    "torch.manual_seed(42)"
   ]
  },
  {
   "cell_type": "code",
   "execution_count": 17,
   "id": "17031c9f",
   "metadata": {},
   "outputs": [],
   "source": [
    "base_dir = '/home/mma6789/Stuff/Studies/sem4/fmse/project' #@param {type: 'string'}\n",
    "method = 'CNN' #@param ['CNN', 'DNN']"
   ]
  },
  {
   "cell_type": "code",
   "execution_count": 18,
   "id": "7d58228b",
   "metadata": {},
   "outputs": [],
   "source": [
    "# Load MNIST train and test dataset\n",
    "train_loader = torch.utils.data.DataLoader(\n",
    "    datasets.MNIST(f'{base_dir}/data', train=True, download=True, transform=transforms.Compose([\n",
    "            transforms.ToTensor(),\n",
    "            transforms.Normalize((0.1307,), (0.3081,)),\n",
    "            ])),\n",
    "        batch_size=32, shuffle=True)\n",
    "\n",
    "valid_loader = torch.utils.data.DataLoader(\n",
    "    datasets.MNIST(f'{base_dir}/data', train=False, transform=transforms.Compose([\n",
    "            transforms.ToTensor(),\n",
    "            transforms.Normalize((0.1307,), (0.3081,)),\n",
    "            ])),\n",
    "        batch_size=32, shuffle=True)"
   ]
  },
  {
   "cell_type": "code",
   "execution_count": 19,
   "id": "cb14082c",
   "metadata": {},
   "outputs": [],
   "source": [
    "def train_epoch():\n",
    "    model.train(True)\n",
    "    running_loss = 0.0\n",
    "    y_true = []\n",
    "    y_pred = []\n",
    "    \n",
    "    for batch_index, batch in enumerate(tqdm(train_loader, desc=f'Epoch {epoch + 1} train')):\n",
    "        x_batch, y_batch = batch[0].to(device), batch[1].to(device)\n",
    "        \n",
    "        output = model(x_batch)\n",
    "        loss = loss_function(output, y_batch)\n",
    "        running_loss += loss.item()\n",
    "        \n",
    "        y_true += y_batch.flatten().tolist()\n",
    "        y_pred += torch.argmax(output, dim=1).cpu().detach().numpy().tolist()\n",
    "        \n",
    "        optimizer.zero_grad()\n",
    "        loss.backward()\n",
    "        optimizer.step()\n",
    "\n",
    "    avg_batch_loss = running_loss / len(train_loader)\n",
    "    acc = accuracy_score(y_true, y_pred)\n",
    "    \n",
    "    train_loss.append(avg_batch_loss)\n",
    "    train_acc.append(acc)\n",
    "    \n",
    "    print('Train epoch results:')\n",
    "    print(f'Loss: {avg_batch_loss}')\n",
    "    print(f'Acc: {acc}')"
   ]
  },
  {
   "cell_type": "code",
   "execution_count": 20,
   "id": "3e01d004",
   "metadata": {},
   "outputs": [],
   "source": [
    "def valid_epoch():\n",
    "    model.train(False)\n",
    "    running_loss = 0.0\n",
    "    y_true = []\n",
    "    y_pred = []\n",
    "    \n",
    "    for batch_index, batch in enumerate(tqdm(valid_loader, desc=f'Epoch {epoch + 1} valid')):\n",
    "        x_batch, y_batch = batch[0].to(device), batch[1].to(device)\n",
    "        \n",
    "        with torch.no_grad():\n",
    "            output = model(x_batch)\n",
    "            loss = loss_function(output, y_batch)\n",
    "            running_loss += loss.item()\n",
    "        \n",
    "        y_true += y_batch.flatten().tolist()\n",
    "        y_pred += torch.argmax(output, dim=1).cpu().detach().numpy().tolist()\n",
    "\n",
    "    avg_batch_loss = running_loss / len(valid_loader)\n",
    "    acc = accuracy_score(y_true, y_pred)\n",
    "    \n",
    "    valid_loss.append(avg_batch_loss)\n",
    "    valid_acc.append(acc)\n",
    "    \n",
    "    print('Valid epoch results:')\n",
    "    print(f'Loss: {avg_batch_loss}')\n",
    "    print(f'Acc: {acc}')"
   ]
  },
  {
   "cell_type": "code",
   "execution_count": 21,
   "id": "3b04b875",
   "metadata": {},
   "outputs": [],
   "source": [
    "## Import model\n",
    "if method == 'CNN':\n",
    "    model = models.CNN().to(device)\n",
    "elif method == 'DNN':\n",
    "    model = models.DNN().to(device)"
   ]
  },
  {
   "cell_type": "code",
   "execution_count": 22,
   "id": "84b349f5",
   "metadata": {},
   "outputs": [],
   "source": [
    "## Model Parameters\n",
    "learning_rate = 0.001\n",
    "epochs = 10\n",
    "\n",
    "loss_function = nn.NLLLoss()\n",
    "optimizer = optim.Adam(model.parameters(), lr=learning_rate)"
   ]
  },
  {
   "cell_type": "code",
   "execution_count": 23,
   "id": "bab0e60c",
   "metadata": {},
   "outputs": [
    {
     "data": {
      "application/vnd.jupyter.widget-view+json": {
       "model_id": "03f22bfaf2de41aeab48c51b736f0b9a",
       "version_major": 2,
       "version_minor": 0
      },
      "text/plain": [
       "Training progress:   0%|          | 0/10 [00:00<?, ?it/s]"
      ]
     },
     "metadata": {},
     "output_type": "display_data"
    },
    {
     "data": {
      "application/vnd.jupyter.widget-view+json": {
       "model_id": "9421c0f500054c26b97d6a81c48b5719",
       "version_major": 2,
       "version_minor": 0
      },
      "text/plain": [
       "Epoch 1 train:   0%|          | 0/1875 [00:00<?, ?it/s]"
      ]
     },
     "metadata": {},
     "output_type": "display_data"
    },
    {
     "name": "stdout",
     "output_type": "stream",
     "text": [
      "Train epoch results:\n",
      "Loss: 0.19501551821579535\n",
      "Acc: 0.9402833333333334\n"
     ]
    },
    {
     "data": {
      "application/vnd.jupyter.widget-view+json": {
       "model_id": "16cf37223a174f7a9be6d4da5bb3c17d",
       "version_major": 2,
       "version_minor": 0
      },
      "text/plain": [
       "Epoch 1 valid:   0%|          | 0/313 [00:00<?, ?it/s]"
      ]
     },
     "metadata": {},
     "output_type": "display_data"
    },
    {
     "name": "stdout",
     "output_type": "stream",
     "text": [
      "Valid epoch results:\n",
      "Loss: 0.0471677897692719\n",
      "Acc: 0.9848\n"
     ]
    },
    {
     "data": {
      "application/vnd.jupyter.widget-view+json": {
       "model_id": "f65f0cc085634753894a6b97f6708ce9",
       "version_major": 2,
       "version_minor": 0
      },
      "text/plain": [
       "Epoch 2 train:   0%|          | 0/1875 [00:00<?, ?it/s]"
      ]
     },
     "metadata": {},
     "output_type": "display_data"
    },
    {
     "name": "stdout",
     "output_type": "stream",
     "text": [
      "Train epoch results:\n",
      "Loss: 0.0897892549853151\n",
      "Acc: 0.97355\n"
     ]
    },
    {
     "data": {
      "application/vnd.jupyter.widget-view+json": {
       "model_id": "e59786e94cbb4b45bdc938da98b6f504",
       "version_major": 2,
       "version_minor": 0
      },
      "text/plain": [
       "Epoch 2 valid:   0%|          | 0/313 [00:00<?, ?it/s]"
      ]
     },
     "metadata": {},
     "output_type": "display_data"
    },
    {
     "name": "stdout",
     "output_type": "stream",
     "text": [
      "Valid epoch results:\n",
      "Loss: 0.03677424504782427\n",
      "Acc: 0.988\n"
     ]
    },
    {
     "data": {
      "application/vnd.jupyter.widget-view+json": {
       "model_id": "906200f8faa740688ce36a26311e659e",
       "version_major": 2,
       "version_minor": 0
      },
      "text/plain": [
       "Epoch 3 train:   0%|          | 0/1875 [00:00<?, ?it/s]"
      ]
     },
     "metadata": {},
     "output_type": "display_data"
    },
    {
     "name": "stdout",
     "output_type": "stream",
     "text": [
      "Train epoch results:\n",
      "Loss: 0.0687461927848092\n",
      "Acc: 0.9791333333333333\n"
     ]
    },
    {
     "data": {
      "application/vnd.jupyter.widget-view+json": {
       "model_id": "e6caa84cf9ad435b9cc90aabc0ceae61",
       "version_major": 2,
       "version_minor": 0
      },
      "text/plain": [
       "Epoch 3 valid:   0%|          | 0/313 [00:00<?, ?it/s]"
      ]
     },
     "metadata": {},
     "output_type": "display_data"
    },
    {
     "name": "stdout",
     "output_type": "stream",
     "text": [
      "Valid epoch results:\n",
      "Loss: 0.03475143239797407\n",
      "Acc: 0.9886\n"
     ]
    },
    {
     "data": {
      "application/vnd.jupyter.widget-view+json": {
       "model_id": "9f83adbaebc8441a906c818efba41590",
       "version_major": 2,
       "version_minor": 0
      },
      "text/plain": [
       "Epoch 4 train:   0%|          | 0/1875 [00:00<?, ?it/s]"
      ]
     },
     "metadata": {},
     "output_type": "display_data"
    },
    {
     "name": "stdout",
     "output_type": "stream",
     "text": [
      "Train epoch results:\n",
      "Loss: 0.05537711522929991\n",
      "Acc: 0.9832166666666666\n"
     ]
    },
    {
     "data": {
      "application/vnd.jupyter.widget-view+json": {
       "model_id": "457066ee1af545a5916b4dfb9bc37f4d",
       "version_major": 2,
       "version_minor": 0
      },
      "text/plain": [
       "Epoch 4 valid:   0%|          | 0/313 [00:00<?, ?it/s]"
      ]
     },
     "metadata": {},
     "output_type": "display_data"
    },
    {
     "name": "stdout",
     "output_type": "stream",
     "text": [
      "Valid epoch results:\n",
      "Loss: 0.03492389820056228\n",
      "Acc: 0.9886\n"
     ]
    },
    {
     "data": {
      "application/vnd.jupyter.widget-view+json": {
       "model_id": "7b68edceba9e4337b7ba1b86050095dd",
       "version_major": 2,
       "version_minor": 0
      },
      "text/plain": [
       "Epoch 5 train:   0%|          | 0/1875 [00:00<?, ?it/s]"
      ]
     },
     "metadata": {},
     "output_type": "display_data"
    },
    {
     "name": "stdout",
     "output_type": "stream",
     "text": [
      "Train epoch results:\n",
      "Loss: 0.048798487842496255\n",
      "Acc: 0.9846833333333334\n"
     ]
    },
    {
     "data": {
      "application/vnd.jupyter.widget-view+json": {
       "model_id": "b223c2d4cc7b43eeafa2e6f1941bcffc",
       "version_major": 2,
       "version_minor": 0
      },
      "text/plain": [
       "Epoch 5 valid:   0%|          | 0/313 [00:00<?, ?it/s]"
      ]
     },
     "metadata": {},
     "output_type": "display_data"
    },
    {
     "name": "stdout",
     "output_type": "stream",
     "text": [
      "Valid epoch results:\n",
      "Loss: 0.029695400257213234\n",
      "Acc: 0.9905\n"
     ]
    },
    {
     "data": {
      "application/vnd.jupyter.widget-view+json": {
       "model_id": "4455ed7aa25e4e1b94ea2b9633ad2b16",
       "version_major": 2,
       "version_minor": 0
      },
      "text/plain": [
       "Epoch 6 train:   0%|          | 0/1875 [00:00<?, ?it/s]"
      ]
     },
     "metadata": {},
     "output_type": "display_data"
    },
    {
     "name": "stdout",
     "output_type": "stream",
     "text": [
      "Train epoch results:\n",
      "Loss: 0.04405752720748617\n",
      "Acc: 0.9862833333333333\n"
     ]
    },
    {
     "data": {
      "application/vnd.jupyter.widget-view+json": {
       "model_id": "bcdc227a072f45e09319b2ab08c0cdda",
       "version_major": 2,
       "version_minor": 0
      },
      "text/plain": [
       "Epoch 6 valid:   0%|          | 0/313 [00:00<?, ?it/s]"
      ]
     },
     "metadata": {},
     "output_type": "display_data"
    },
    {
     "name": "stdout",
     "output_type": "stream",
     "text": [
      "Valid epoch results:\n",
      "Loss: 0.029666921076350612\n",
      "Acc: 0.9912\n"
     ]
    },
    {
     "data": {
      "application/vnd.jupyter.widget-view+json": {
       "model_id": "6fc9241b029849f2b9a87ab8ac956a90",
       "version_major": 2,
       "version_minor": 0
      },
      "text/plain": [
       "Epoch 7 train:   0%|          | 0/1875 [00:00<?, ?it/s]"
      ]
     },
     "metadata": {},
     "output_type": "display_data"
    },
    {
     "name": "stdout",
     "output_type": "stream",
     "text": [
      "Train epoch results:\n",
      "Loss: 0.037520301359424774\n",
      "Acc: 0.9878\n"
     ]
    },
    {
     "data": {
      "application/vnd.jupyter.widget-view+json": {
       "model_id": "697cbb43d70b4b7583e9a545e7e5fab0",
       "version_major": 2,
       "version_minor": 0
      },
      "text/plain": [
       "Epoch 7 valid:   0%|          | 0/313 [00:00<?, ?it/s]"
      ]
     },
     "metadata": {},
     "output_type": "display_data"
    },
    {
     "name": "stdout",
     "output_type": "stream",
     "text": [
      "Valid epoch results:\n",
      "Loss: 0.030993179731376004\n",
      "Acc: 0.9915\n"
     ]
    },
    {
     "data": {
      "application/vnd.jupyter.widget-view+json": {
       "model_id": "ea9181f44e4b4edd98f69c82eb0e568e",
       "version_major": 2,
       "version_minor": 0
      },
      "text/plain": [
       "Epoch 8 train:   0%|          | 0/1875 [00:00<?, ?it/s]"
      ]
     },
     "metadata": {},
     "output_type": "display_data"
    },
    {
     "name": "stdout",
     "output_type": "stream",
     "text": [
      "Train epoch results:\n",
      "Loss: 0.03368680582511054\n",
      "Acc: 0.98915\n"
     ]
    },
    {
     "data": {
      "application/vnd.jupyter.widget-view+json": {
       "model_id": "d823be5a7c374a55bd3396d268ae6011",
       "version_major": 2,
       "version_minor": 0
      },
      "text/plain": [
       "Epoch 8 valid:   0%|          | 0/313 [00:00<?, ?it/s]"
      ]
     },
     "metadata": {},
     "output_type": "display_data"
    },
    {
     "name": "stdout",
     "output_type": "stream",
     "text": [
      "Valid epoch results:\n",
      "Loss: 0.041028437591453935\n",
      "Acc: 0.9895\n"
     ]
    },
    {
     "data": {
      "application/vnd.jupyter.widget-view+json": {
       "model_id": "67686b775148446ab9aaf94780bd0f8d",
       "version_major": 2,
       "version_minor": 0
      },
      "text/plain": [
       "Epoch 9 train:   0%|          | 0/1875 [00:00<?, ?it/s]"
      ]
     },
     "metadata": {},
     "output_type": "display_data"
    },
    {
     "name": "stdout",
     "output_type": "stream",
     "text": [
      "Train epoch results:\n",
      "Loss: 0.03249436335249229\n",
      "Acc: 0.9897666666666667\n"
     ]
    },
    {
     "data": {
      "application/vnd.jupyter.widget-view+json": {
       "model_id": "d8ee28a2f69641c8ae1fa85d7467086e",
       "version_major": 2,
       "version_minor": 0
      },
      "text/plain": [
       "Epoch 9 valid:   0%|          | 0/313 [00:00<?, ?it/s]"
      ]
     },
     "metadata": {},
     "output_type": "display_data"
    },
    {
     "name": "stdout",
     "output_type": "stream",
     "text": [
      "Valid epoch results:\n",
      "Loss: 0.037366600813218014\n",
      "Acc: 0.9907\n"
     ]
    },
    {
     "data": {
      "application/vnd.jupyter.widget-view+json": {
       "model_id": "438f17a02b144f70831cab4dfdee45cf",
       "version_major": 2,
       "version_minor": 0
      },
      "text/plain": [
       "Epoch 10 train:   0%|          | 0/1875 [00:00<?, ?it/s]"
      ]
     },
     "metadata": {},
     "output_type": "display_data"
    },
    {
     "name": "stdout",
     "output_type": "stream",
     "text": [
      "Train epoch results:\n",
      "Loss: 0.030251351187301042\n",
      "Acc: 0.9908666666666667\n"
     ]
    },
    {
     "data": {
      "application/vnd.jupyter.widget-view+json": {
       "model_id": "b6895bda313d4cca88504629ef5b0668",
       "version_major": 2,
       "version_minor": 0
      },
      "text/plain": [
       "Epoch 10 valid:   0%|          | 0/313 [00:00<?, ?it/s]"
      ]
     },
     "metadata": {},
     "output_type": "display_data"
    },
    {
     "name": "stdout",
     "output_type": "stream",
     "text": [
      "Valid epoch results:\n",
      "Loss: 0.03350641632312944\n",
      "Acc: 0.9917\n"
     ]
    }
   ],
   "source": [
    "## Train model\n",
    "train_loss = []\n",
    "train_acc = []\n",
    "valid_loss = []\n",
    "valid_acc = []\n",
    "\n",
    "for epoch in tqdm(range(epochs), desc='Training progress'):\n",
    "    train_epoch()\n",
    "    valid_epoch()"
   ]
  },
  {
   "cell_type": "code",
   "execution_count": 24,
   "id": "1dff14d5",
   "metadata": {},
   "outputs": [],
   "source": [
    "## Save model to file\n",
    "torch.save(model.state_dict(), f'{base_dir}/models/MNIST_{method}_{learning_rate}.pt')"
   ]
  },
  {
   "cell_type": "code",
   "execution_count": 25,
   "id": "3543e6d9",
   "metadata": {},
   "outputs": [
    {
     "data": {
      "image/png": "[encoded data removed]",
      "text/plain": [
       "<Figure size 640x480 with 1 Axes>"
      ]
     },
     "metadata": {},
     "output_type": "display_data"
    }
   ],
   "source": [
    "## Loss graph\n",
    "plt.plot(range(1, epochs + 1), train_loss, label='Training Loss')\n",
    "plt.plot(range(1, epochs + 1), valid_loss, label='Validation Loss')\n",
    " \n",
    "plt.title(f'Loss')\n",
    "plt.xlabel('Epochs')\n",
    "plt.ylabel('Loss')\n",
    "\n",
    "plt.xticks(range(0, epochs + 1, 10))\n",
    "plt.legend(loc='best')\n",
    "plt.ylim(bottom=0, top=0.5)\n",
    "plt.show()"
   ]
  },
  {
   "cell_type": "code",
   "execution_count": 26,
   "id": "947a0aa2",
   "metadata": {},
   "outputs": [
    {
     "data": {
      "image/png": "[encoded data removed]",
      "text/plain": [
       "<Figure size 640x480 with 1 Axes>"
      ]
     },
     "metadata": {},
     "output_type": "display_data"
    }
   ],
   "source": [
    "## Accuracy graph\n",
    "plt.plot(range(1, epochs + 1), train_acc, label='Training Accuracy')\n",
    "plt.plot(range(1, epochs + 1), valid_acc, label='Validation Accuracy')\n",
    " \n",
    "plt.title('Accuracy')\n",
    "plt.xlabel('Epochs')\n",
    "plt.ylabel('Loss')\n",
    "\n",
    "plt.xticks(range(0, epochs + 1, 10))\n",
    "plt.legend(loc='best')\n",
    "plt.ylim(bottom=0.5, top=1)\n",
    "plt.show()"
   ]
  },
  {
   "cell_type": "code",
   "execution_count": null,
   "id": "b8c79318",
   "metadata": {},
   "outputs": [],
   "source": []
  }
 ],
 "metadata": {
  "kernelspec": {
   "display_name": "Python 3 (ipykernel)",
   "language": "python",
   "name": "python3"
  },
  "language_info": {
   "codemirror_mode": {
    "name": "ipython",
    "version": 3
   },
   "file_extension": ".py",
   "mimetype": "text/x-python",
   "name": "python",
   "nbconvert_exporter": "python",
   "pygments_lexer": "ipython3",
   "version": "3.11.5"
  }
 },
 "nbformat": 4,
 "nbformat_minor": 5
}
